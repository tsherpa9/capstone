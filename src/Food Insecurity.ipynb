{
 "cells": [
  {
   "cell_type": "code",
   "execution_count": 1,
   "id": "9c4fa5a2",
   "metadata": {},
   "outputs": [],
   "source": [
    "import pandas as pd\n",
    "import numpy as np\n",
    "import matplotlib.pyplot as plt\n",
    "import seaborn as sns\n",
    "import geopandas as gpd\n",
    "import plotly.express as px\n",
    "import plotly.io as pio\n",
    "\n",
    "from sklearn.linear_model import Ridge, Lasso, ElasticNet\n",
    "from sklearn.model_selection import train_test_split\n",
    "from sklearn.metrics import mean_squared_error\n",
    "from sklearn.preprocessing import StandardScaler\n",
    "from sklearn.tree import DecisionTreeRegressor\n",
    "from sklearn.ensemble import RandomForestRegressor"
   ]
  },
  {
   "cell_type": "code",
   "execution_count": 2,
   "id": "ceaa78c1",
   "metadata": {},
   "outputs": [
    {
     "data": {
      "text/plain": [
       "(3142, 100)"
      ]
     },
     "execution_count": 2,
     "metadata": {},
     "output_type": "execute_result"
    }
   ],
   "source": [
    "df = pd.read_pickle(r'./../data/AtlasCleaned.pkl')\n",
    "df.shape"
   ]
  },
  {
   "cell_type": "code",
   "execution_count": 3,
   "id": "76e43a77",
   "metadata": {},
   "outputs": [],
   "source": [
    "df.drop(labels=['LACCESS_POP10', 'LACCESS_POP15', 'PCH_LACCESS_POP_10_15', 'LACCESS_LOWI10', 'LACCESS_LOWI15',\n",
    "                    'PCH_LACCESS_LOWI_10_15', 'LACCESS_HHNV10', 'LACCESS_HHNV15', 'PCH_LACCESS_HHNV_10_15',\n",
    "                    'LACCESS_SNAP15', 'LACCESS_CHILD10', 'LACCESS_CHILD15', 'LACCESS_CHILD_10_15', \n",
    "                    'LACCESS_SENIORS10', 'LACCESS_SENIORS15', 'PCH_LACCESS_SENIORS_10_15', 'LACCESS_WHITE15', \n",
    "                    'LACCESS_BLACK15', 'LACCESS_HISP15', 'LACCESS_NHASIAN15', 'LACCESS_NHNA15', \n",
    "                    'LACCESS_NHPI15', 'LACCESS_MULTIR15'], axis=1, inplace=True)"
   ]
  },
  {
   "cell_type": "code",
   "execution_count": 9,
   "id": "7646747e",
   "metadata": {},
   "outputs": [],
   "source": [
    "df10_cols = ['PCT_LACCESS_POP10', 'PCT_LACCESS_LOWI10', 'PCT_LACCESS_HHNV10',\n",
    "             'PCT_LACCESS_CHILD10','PCT_LACCESS_SENIORS10', 'PCT_FREE_LUNCH10', 'PCT_REDUCED_LUNCH10',\n",
    "             'PCT_NHWHITE10', 'PCT_NHBLACK10', 'PCT_HISP10', 'PCT_NHASIAN10', 'PCT_NHNA10', 'PCT_NHPI10',\n",
    "             'PCT_65OLDER10', 'PCT_18YOUNGER10',\n",
    "             'GROCPTH11', 'SUPERCPTH11', 'CONVSPTH11', 'SPECSPTH11', \n",
    "             'SNAPSPTH12', 'FFRPTH11', 'FSRPTH11', 'PC_FFRSALES07','PC_FSRSALES07', 'PCT_SNAP12', \n",
    "             'SNAP_PART_RATE11', 'PCT_NSLP12','PCT_SBP12', 'PCT_SFSP12',\n",
    "             'FDPIR12','FOODINSEC_12_14','VLFOODSEC_12_14','DIRSALES_FARMS07', 'FMRKTPTH13']\n",
    "\n",
    "df15_cols = ['PCT_LACCESS_POP15', 'PCT_LACCESS_LOWI15', 'PCT_LACCESS_HHNV15', \n",
    "             'PCT_LACCESS_SNAP15', 'PCT_LACCESS_CHILD15', 'PCT_LACCESS_SENIORS15', 'PCT_LACCESS_WHITE15',\n",
    "             'PCT_LACCESS_BLACK15','PCT_LACCESS_HISP15', 'PCT_LACCESS_NHASIAN15', 'PCT_LACCESS_NHNA15', \n",
    "             'PCT_LACCESS_NHPI15', 'PCT_LACCESS_MULTIR15', 'PCT_FREE_LUNCH15', 'PCT_REDUCED_LUNCH15', \n",
    "             'GROCPTH16', 'SUPERCPTH16', 'CONVSPTH16', 'SPECSPTH16', 'SNAPSPTH17', 'FFRPTH16', 'FSRPTH16',\n",
    "             'PC_FFRSALES12', 'PC_FSRSALES12', 'PCT_SNAP17','SNAP_PART_RATE16', 'PCT_NSLP17', 'PCT_SBP17', 'PCT_SFSP17',\n",
    "             'FDPIR15', 'FOODINSEC_15_17','VLFOODSEC_15_17', 'DIRSALES_FARMS12', 'FMRKTPTH18']\n",
    "\n",
    "df10 = pd.DataFrame(df, columns = df10_cols)\n",
    "df15 = pd.DataFrame(df, columns = df15_cols)\n",
    "\n",
    "from sklearn.preprocessing import MinMaxScaler\n",
    "scaler = MinMaxScaler()\n",
    "\n",
    "df10 = pd.DataFrame(scaler.fit_transform(df10), columns=df10.columns)\n",
    "df15 = pd.DataFrame(scaler.fit_transform(df15), columns=df15.columns)\n",
    "\n",
    "df10.rename(columns = lambda x : str(x)[:-2], inplace=True)\n",
    "df15.rename(columns = lambda x : str(x)[:-2], inplace =True)\n"
   ]
  },
  {
   "cell_type": "code",
   "execution_count": 13,
   "id": "61092ab0",
   "metadata": {},
   "outputs": [
    {
     "name": "stdout",
     "output_type": "stream",
     "text": [
      "Index(['PCT_FREE_LUNCH', 'PCT_REDUCED_LUNCH', 'PCT_SNAP', 'SNAP_PART_RATE',\n",
      "       'PCT_NSLP', 'PCT_SBP', 'PCT_SFSP', 'FDPIR'],\n",
      "      dtype='object')\n",
      "Index(['PCT_FREE_LUNCH', 'PCT_REDUCED_LUNCH', 'PCT_SNAP', 'SNAP_PART_RATE',\n",
      "       'PCT_NSLP', 'PCT_SBP', 'PCT_SFSP', 'FDPIR'],\n",
      "      dtype='object')\n"
     ]
    }
   ],
   "source": [
    "X_train = df10.drop(columns=['PCT_LACCESS_CHILD','PCT_LACCESS_SENIORS','PCT_NHWHITE', 'PCT_NHBLACK',\n",
    "                       'PCT_HISP', 'PCT_NHASIAN', 'PCT_NHNA', 'PCT_NHPI', \n",
    "                       'PCT_65OLDER', 'PCT_18YOUNGER', 'VLFOODSEC_12_', 'FOODINSEC_12_'], axis=1)\n",
    "y_train = df10['PCT_LACCESS_POP']\n",
    "\n",
    "\n",
    "X_test = df15.drop(columns=['PCT_LACCESS_CHILD','PCT_LACCESS_SENIORS','PCT_LACCESS_SNAP','PCT_LACCESS_WHITE',\n",
    "             'PCT_LACCESS_BLACK','PCT_LACCESS_HISP', 'PCT_LACCESS_NHASIAN', 'PCT_LACCESS_NHNA', \n",
    "             'PCT_LACCESS_NHPI', 'PCT_LACCESS_MULTIR', 'VLFOODSEC_15_', 'FOODINSEC_15_'], axis=1)\n",
    "y_test = df15['PCT_LACCESS_POP']\n",
    "\n",
    "\n",
    "X_train = X_train.drop(columns=['PCT_LACCESS_POP', 'PCT_LACCESS_LOWI', 'PCT_LACCESS_HHNV',\n",
    "       'GROCPTH', 'SUPERCPTH','CONVSPTH', 'SPECSPTH', 'SNAPSPTH', 'FFRPTH', 'FSRPTH', 'PC_FFRSALES',\n",
    "       'PC_FSRSALES', 'DIRSALES_FARMS', 'FMRKTPTH'], axis=1)\n",
    "X_test =  X_test.drop(columns=['PCT_LACCESS_POP', 'PCT_LACCESS_LOWI', 'PCT_LACCESS_HHNV',\n",
    "       'GROCPTH', 'SUPERCPTH','CONVSPTH', 'SPECSPTH', 'SNAPSPTH', 'FFRPTH', 'FSRPTH', 'PC_FFRSALES',\n",
    "       'PC_FSRSALES', 'DIRSALES_FARMS', 'FMRKTPTH'], axis=1)\n",
    "\n",
    "print(X_train.columns)\n",
    "print(X_test.columns)"
   ]
  },
  {
   "cell_type": "code",
   "execution_count": 11,
   "id": "94c679dc",
   "metadata": {},
   "outputs": [
    {
     "name": "stdout",
     "output_type": "stream",
     "text": [
      "R-squared: 0.08965234707232628\n",
      "P-values: const                9.727677e-66\n",
      "PCT_FREE_LUNCH       4.902891e-03\n",
      "PCT_REDUCED_LUNCH    1.311683e-04\n",
      "PCT_SNAP             3.704307e-04\n",
      "SNAP_PART_RATE       1.057186e-03\n",
      "PCT_NSLP             1.417373e-04\n",
      "PCT_SBP              8.310241e-01\n",
      "PCT_SFSP             2.926358e-01\n",
      "FDPIR                1.774391e-03\n",
      "dtype: float64\n"
     ]
    }
   ],
   "source": [
    "import statsmodels.api as sm\n",
    "X = sm.add_constant(X_train)\n",
    "model = sm.OLS(y_train, X).fit()\n",
    "model.summary()\n",
    "print('R-squared:', model.rsquared)\n",
    "print('P-values:', model.pvalues)"
   ]
  },
  {
   "cell_type": "code",
   "execution_count": 15,
   "id": "17a02093",
   "metadata": {},
   "outputs": [
    {
     "name": "stdout",
     "output_type": "stream",
     "text": [
      "Coefficients: [-0.07537103  0.24127118 -0.14467745 -0.09583414  0.07173816  0.00805502\n",
      " -0.0924084   0.24787078]\n",
      "Intercept: 0.32727746944119024\n",
      "Score: 0.041247863206057\n"
     ]
    }
   ],
   "source": [
    "from sklearn.linear_model import LinearRegression\n",
    "model = LinearRegression()\n",
    "model.fit(X_train,y_train)\n",
    "\n",
    "print('Coefficients:', model.coef_)\n",
    "print('Intercept:', model.intercept_)\n",
    "print('Score:', model.score(X_test,y_test))"
   ]
  },
  {
   "cell_type": "code",
   "execution_count": null,
   "id": "32c38183",
   "metadata": {},
   "outputs": [],
   "source": [
    "df_avg = df.groupby(['State']).mean()\n",
    "df_avg.shape"
   ]
  },
  {
   "cell_type": "code",
   "execution_count": null,
   "id": "7a3b2b31",
   "metadata": {},
   "outputs": [],
   "source": [
    "df10_cols = ['PCT_LACCESS_POP10', 'PCT_LACCESS_LOWI10', 'PCT_LACCESS_HHNV10',\n",
    "             'PCT_LACCESS_CHILD10','PCT_LACCESS_SENIORS10', 'PCT_FREE_LUNCH10', 'PCT_REDUCED_LUNCH10',\n",
    "             'PCT_NHWHITE10', 'PCT_NHBLACK10', 'PCT_HISP10', 'PCT_NHASIAN10', 'PCT_NHNA10', 'PCT_NHPI10',\n",
    "             'PCT_65OLDER10', 'PCT_18YOUNGER10',\n",
    "             'GROCPTH11', 'SUPERCPTH11', 'CONVSPTH11', 'SPECSPTH11', \n",
    "             'SNAPSPTH12', 'FFRPTH11', 'FSRPTH11', 'PC_FFRSALES07','PC_FSRSALES07', 'PCT_SNAP12', \n",
    "             'SNAP_PART_RATE11', 'PCT_NSLP12','PCT_SBP12', 'PCT_SFSP12',\n",
    "             'FDPIR12','FOODINSEC_12_14','VLFOODSEC_12_14','DIRSALES_FARMS07', 'FMRKTPTH13']\n",
    "\n",
    "\n",
    "df15_cols = ['PCT_LACCESS_POP15', 'PCT_LACCESS_LOWI15', 'PCT_LACCESS_HHNV15', \n",
    "             'PCT_LACCESS_SNAP15', 'PCT_LACCESS_CHILD15', 'PCT_LACCESS_SENIORS15', 'PCT_LACCESS_WHITE15',\n",
    "             'PCT_LACCESS_BLACK15','PCT_LACCESS_HISP15', 'PCT_LACCESS_NHASIAN15', 'PCT_LACCESS_NHNA15', \n",
    "             'PCT_LACCESS_NHPI15', 'PCT_LACCESS_MULTIR15', 'PCT_FREE_LUNCH15', 'PCT_REDUCED_LUNCH15', \n",
    "             'GROCPTH16', 'SUPERCPTH16', 'CONVSPTH16', 'SPECSPTH16', 'SNAPSPTH17', 'FFRPTH16', 'FSRPTH16',\n",
    "             'PC_FFRSALES12', 'PC_FSRSALES12', 'PCT_SNAP17','SNAP_PART_RATE16', 'PCT_NSLP17', 'PCT_SBP17', 'PCT_SFSP17',\n",
    "             'FDPIR15', 'FOODINSEC_15_17','VLFOODSEC_15_17', 'DIRSALES_FARMS12', 'FMRKTPTH18']\n",
    "\n",
    "# Foodhub, metro 13, medhincome 15 'POVRATE15' are not here\n",
    "\n",
    "df10 = pd.DataFrame(df_avg, columns = df10_cols)\n",
    "df15 = pd.DataFrame(df_avg, columns = df15_cols)"
   ]
  },
  {
   "cell_type": "code",
   "execution_count": null,
   "id": "6b44dd59",
   "metadata": {},
   "outputs": [],
   "source": [
    "df10.shape"
   ]
  },
  {
   "cell_type": "code",
   "execution_count": null,
   "id": "fa6fbc70",
   "metadata": {},
   "outputs": [],
   "source": [
    "# scaler = StandardScaler()\n",
    "\n",
    "from sklearn.preprocessing import MinMaxScaler\n",
    "scaler = MinMaxScaler()\n",
    "\n",
    "df10 = pd.DataFrame(scaler.fit_transform(df10), columns=df10.columns)\n",
    "df15 = pd.DataFrame(scaler.fit_transform(df15), columns=df15.columns)\n",
    "\n",
    "df10.rename(columns = lambda x : str(x)[:-2], inplace=True)\n",
    "df15.rename(columns = lambda x : str(x)[:-2], inplace =True)\n",
    "\n",
    "print(df10.columns)\n",
    "print(df15.columns)"
   ]
  },
  {
   "cell_type": "code",
   "execution_count": null,
   "id": "d94297af",
   "metadata": {},
   "outputs": [],
   "source": [
    "X_train = df10.drop(columns=['PCT_LACCESS_CHILD','PCT_LACCESS_SENIORS','PCT_NHWHITE', 'PCT_NHBLACK',\n",
    "                       'PCT_HISP', 'PCT_NHASIAN', 'PCT_NHNA', 'PCT_NHPI', \n",
    "                       'PCT_65OLDER', 'PCT_18YOUNGER', 'VLFOODSEC_12_', 'FOODINSEC_12_'], axis=1)\n",
    "y_train = df10['FOODINSEC_12_']\n",
    "\n",
    "\n",
    "X_test = df15.drop(columns=['PCT_LACCESS_CHILD','PCT_LACCESS_SENIORS','PCT_LACCESS_SNAP','PCT_LACCESS_WHITE',\n",
    "             'PCT_LACCESS_BLACK','PCT_LACCESS_HISP', 'PCT_LACCESS_NHASIAN', 'PCT_LACCESS_NHNA', \n",
    "             'PCT_LACCESS_NHPI', 'PCT_LACCESS_MULTIR', 'VLFOODSEC_15_', 'FOODINSEC_15_'], axis=1)\n",
    "y_test = df15['FOODINSEC_15_']\n",
    "\n",
    "print(X_train.columns)\n",
    "print(X_test.columns)\n"
   ]
  },
  {
   "cell_type": "code",
   "execution_count": null,
   "id": "e57fb43b",
   "metadata": {},
   "outputs": [],
   "source": [
    "X_train = X_train.drop(columns=['PCT_FREE_LUNCH', 'PCT_REDUCED_LUNCH', 'GROCPTH', 'SUPERCPTH',\n",
    "       'CONVSPTH', 'SPECSPTH', 'SNAPSPTH', 'FFRPTH', 'FSRPTH', 'PC_FFRSALES',\n",
    "       'PC_FSRSALES', 'PCT_SNAP', 'SNAP_PART_RATE', 'PCT_NSLP', 'PCT_SBP',\n",
    "       'PCT_SFSP', 'FDPIR', 'DIRSALES_FARMS', 'FMRKTPTH'], axis=1)\n",
    "\n",
    "\n",
    "X_test = X_test.drop(columns=['PCT_FREE_LUNCH', 'PCT_REDUCED_LUNCH', 'GROCPTH', 'SUPERCPTH',\n",
    "       'CONVSPTH', 'SPECSPTH', 'SNAPSPTH', 'FFRPTH', 'FSRPTH', 'PC_FFRSALES',\n",
    "       'PC_FSRSALES', 'PCT_SNAP', 'SNAP_PART_RATE', 'PCT_NSLP', 'PCT_SBP',\n",
    "       'PCT_SFSP', 'FDPIR', 'DIRSALES_FARMS', 'FMRKTPTH'], axis=1)\n",
    "print(X_train.columns)\n",
    "print(X_test.columns)\n"
   ]
  },
  {
   "cell_type": "code",
   "execution_count": null,
   "id": "65b38c19",
   "metadata": {},
   "outputs": [],
   "source": [
    "from sklearn.linear_model import LinearRegression\n",
    "\n",
    "model = LinearRegression()\n",
    "model.fit(X_train,y_train)\n",
    "\n",
    "print('Coefficients:', model.coef_)\n",
    "print('Intercept:', model.intercept_)\n",
    "print('Score:', model.score(X_train,y_train))"
   ]
  },
  {
   "cell_type": "code",
   "execution_count": null,
   "id": "cdf7704c",
   "metadata": {},
   "outputs": [],
   "source": [
    "import statsmodels.api as sm\n",
    "X = sm.add_constant(X_train)\n",
    "model = sm.OLS(y_train, X).fit()\n",
    "model.summary()\n",
    "print('R-squared:', model.rsquared)\n",
    "print('P-values:', model.pvalues)"
   ]
  },
  {
   "cell_type": "code",
   "execution_count": null,
   "id": "ca5c971b",
   "metadata": {},
   "outputs": [],
   "source": [
    "X_train.columns"
   ]
  },
  {
   "cell_type": "code",
   "execution_count": null,
   "id": "3b09a02a",
   "metadata": {},
   "outputs": [],
   "source": [
    "X_train = df10.drop(columns=['PCT_LACCESS_CHILD','PCT_LACCESS_SENIORS','PCT_NHWHITE', 'PCT_NHBLACK',\n",
    "                       'PCT_HISP', 'PCT_NHASIAN', 'PCT_NHNA', 'PCT_NHPI', \n",
    "                       'PCT_65OLDER', 'PCT_18YOUNGER', 'VLFOODSEC_12_', 'FOODINSEC_12_'], axis=1)\n",
    "y_train = df10['PCT_LACCESS_POP']\n",
    "\n",
    "\n",
    "X_test = df15.drop(columns=['PCT_LACCESS_CHILD','PCT_LACCESS_SENIORS','PCT_LACCESS_SNAP','PCT_LACCESS_WHITE',\n",
    "             'PCT_LACCESS_BLACK','PCT_LACCESS_HISP', 'PCT_LACCESS_NHASIAN', 'PCT_LACCESS_NHNA', \n",
    "             'PCT_LACCESS_NHPI', 'PCT_LACCESS_MULTIR', 'VLFOODSEC_15_', 'FOODINSEC_15_'], axis=1)\n",
    "y_test = df15['PCT_LACCESS_POP']\n",
    "\n",
    "\n",
    "X_train = X_train.drop(columns=['PCT_LACCESS_POP', 'PCT_LACCESS_LOWI', 'PCT_LACCESS_HHNV',\n",
    "       'GROCPTH', 'SUPERCPTH','CONVSPTH', 'SPECSPTH', 'SNAPSPTH', 'FFRPTH', 'FSRPTH', 'PC_FFRSALES',\n",
    "       'PC_FSRSALES', 'DIRSALES_FARMS', 'FMRKTPTH'], axis=1)\n",
    "X_test =  X_test.drop(columns=['PCT_LACCESS_POP', 'PCT_LACCESS_LOWI', 'PCT_LACCESS_HHNV',\n",
    "       'GROCPTH', 'SUPERCPTH','CONVSPTH', 'SPECSPTH', 'SNAPSPTH', 'FFRPTH', 'FSRPTH', 'PC_FFRSALES',\n",
    "       'PC_FSRSALES', 'DIRSALES_FARMS', 'FMRKTPTH'], axis=1)\n",
    "\n",
    "print(X_train.columns)\n",
    "print(X_test.columns)"
   ]
  },
  {
   "cell_type": "code",
   "execution_count": null,
   "id": "f271afac",
   "metadata": {},
   "outputs": [],
   "source": [
    "model = LinearRegression()\n",
    "model.fit(X_train,y_train)\n",
    "\n",
    "print('Coefficients:', model.coef_)\n",
    "print('Intercept:', model.intercept_)\n",
    "print('Score:', model.score(X_test,y_test))"
   ]
  },
  {
   "cell_type": "code",
   "execution_count": null,
   "id": "16044c51",
   "metadata": {},
   "outputs": [],
   "source": []
  },
  {
   "cell_type": "code",
   "execution_count": null,
   "id": "d8dbfa95",
   "metadata": {},
   "outputs": [],
   "source": [
    "sns.set(style='darkgrid')\n",
    "\n",
    "def plt_dis(c):\n",
    "    f = sns.displot(data=df10, x=c, height=4, aspect=10/8.27, bins=20)\n",
    "    plt.show()\n",
    "\n",
    "plt_dis('FOODINSEC_12_')"
   ]
  },
  {
   "cell_type": "code",
   "execution_count": null,
   "id": "baa96cd9",
   "metadata": {},
   "outputs": [],
   "source": [
    "df10['State'] = df_avg.index\n",
    "\n",
    "states = {\n",
    "    'WA': '53', 'DE': '10', 'DC': '11', 'WI': '55', 'WV': '54', 'HI': '15',\n",
    "    'FL': '12', 'WY': '56', 'PR': '72', 'NJ': '34', 'NM': '35', 'TX': '48',\n",
    "    'LA': '22', 'NC': '37', 'ND': '38', 'NE': '31', 'TN': '47', 'NY': '36',\n",
    "    'PA': '42', 'AK': '02', 'NV': '32', 'NH': '33', 'VA': '51', 'CO': '08',\n",
    "    'CA': '06', 'AL': '01', 'AR': '05', 'VT': '50', 'IL': '17', 'GA': '13',\n",
    "    'IN': '18', 'IA': '19', 'MA': '25', 'AZ': '04', 'ID': '16', 'CT': '09',\n",
    "    'ME': '23', 'MD': '24', 'OK': '40', 'OH': '39', 'UT': '49', 'MO': '29',\n",
    "    'MN': '27', 'MI': '26', 'RI': '44', 'KS': '20', 'MT': '30', 'MS': '28',\n",
    "    'SC': '45', 'KY': '21', 'OR': '41', 'SD': '46'}\n",
    "\n",
    "# for s in states: \n",
    "#     states[s] = states[s].upper()\n",
    "    \n",
    "df10.replace({\"State\": states}, inplace=True)"
   ]
  },
  {
   "cell_type": "code",
   "execution_count": null,
   "id": "05c38dad",
   "metadata": {},
   "outputs": [],
   "source": [
    "import json\n",
    "with open('USA_Counties_(Generalized).geojson') as f:\n",
    "    tract = json.load(f)\n",
    "\n",
    "fig = px.choropleth(df10, locations='State',  \n",
    "                        color='FOODINSEC_12_',\n",
    "                        color_continuous_scale=\"RdBu_r\",\n",
    "                        range_color=(0, 1),\n",
    "                        geojson=tract,\n",
    "                        featureidkey = \"properties.STATE_FIPS\",\n",
    "                        scope=\"usa\", \n",
    "#                         hover_data=['State'],\n",
    "#                         labels=label, \n",
    "                        title='ff'\n",
    "                   )\n",
    "fig.update_layout(legend=dict(orientation=\"h\",yanchor=\"top\",y=1.02,xanchor=\"right\",x=1))\n",
    "fig.show()"
   ]
  },
  {
   "cell_type": "code",
   "execution_count": null,
   "id": "d14591ec",
   "metadata": {},
   "outputs": [],
   "source": [
    "tract"
   ]
  },
  {
   "cell_type": "code",
   "execution_count": null,
   "id": "1b1ec30c",
   "metadata": {},
   "outputs": [],
   "source": [
    "df10"
   ]
  },
  {
   "cell_type": "code",
   "execution_count": null,
   "id": "6931190e",
   "metadata": {},
   "outputs": [],
   "source": []
  }
 ],
 "metadata": {
  "kernelspec": {
   "display_name": "Python 3 (ipykernel)",
   "language": "python",
   "name": "python3"
  },
  "language_info": {
   "codemirror_mode": {
    "name": "ipython",
    "version": 3
   },
   "file_extension": ".py",
   "mimetype": "text/x-python",
   "name": "python",
   "nbconvert_exporter": "python",
   "pygments_lexer": "ipython3",
   "version": "3.9.16"
  }
 },
 "nbformat": 4,
 "nbformat_minor": 5
}
