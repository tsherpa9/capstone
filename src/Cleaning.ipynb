{
 "cells": [
  {
   "cell_type": "code",
   "execution_count": 1,
   "metadata": {
    "scrolled": true
   },
   "outputs": [],
   "source": [
    "import pandas as pd\n",
    "import numpy as np\n",
    "import matplotlib.pyplot as plt\n",
    "import seaborn as sns\n",
    "import geopandas as gpd\n",
    "import plotly.express as px"
   ]
  },
  {
   "cell_type": "code",
   "execution_count": 2,
   "metadata": {},
   "outputs": [],
   "source": [
    "# Show all columns\n",
    "pd.set_option('display.max_rows', None)"
   ]
  },
  {
   "cell_type": "code",
   "execution_count": 3,
   "metadata": {
    "scrolled": true
   },
   "outputs": [
    {
     "data": {
      "text/html": [
       "<div>\n",
       "<style scoped>\n",
       "    .dataframe tbody tr th:only-of-type {\n",
       "        vertical-align: middle;\n",
       "    }\n",
       "\n",
       "    .dataframe tbody tr th {\n",
       "        vertical-align: top;\n",
       "    }\n",
       "\n",
       "    .dataframe thead th {\n",
       "        text-align: right;\n",
       "    }\n",
       "</style>\n",
       "<table border=\"1\" class=\"dataframe\">\n",
       "  <thead>\n",
       "    <tr style=\"text-align: right;\">\n",
       "      <th></th>\n",
       "      <th>FIPS</th>\n",
       "      <th>State</th>\n",
       "      <th>County</th>\n",
       "      <th>LACCESS_POP10</th>\n",
       "      <th>LACCESS_POP15</th>\n",
       "      <th>PCH_LACCESS_POP_10_15</th>\n",
       "      <th>PCT_LACCESS_POP10</th>\n",
       "      <th>PCT_LACCESS_POP15</th>\n",
       "      <th>LACCESS_LOWI10</th>\n",
       "      <th>LACCESS_LOWI15</th>\n",
       "      <th>...</th>\n",
       "      <th>PCT_HISP10</th>\n",
       "      <th>PCT_NHASIAN10</th>\n",
       "      <th>PCT_NHNA10</th>\n",
       "      <th>PCT_NHPI10</th>\n",
       "      <th>PCT_65OLDER10</th>\n",
       "      <th>PCT_18YOUNGER10</th>\n",
       "      <th>MEDHHINC15</th>\n",
       "      <th>POVRATE15</th>\n",
       "      <th>CHILDPOVRATE15</th>\n",
       "      <th>METRO13</th>\n",
       "    </tr>\n",
       "  </thead>\n",
       "  <tbody>\n",
       "    <tr>\n",
       "      <th>0</th>\n",
       "      <td>1001</td>\n",
       "      <td>AL</td>\n",
       "      <td>Autauga</td>\n",
       "      <td>18428.439685</td>\n",
       "      <td>17496.693038</td>\n",
       "      <td>-5.056026</td>\n",
       "      <td>33.769657</td>\n",
       "      <td>32.062255</td>\n",
       "      <td>5344.427472</td>\n",
       "      <td>6543.676824</td>\n",
       "      <td>...</td>\n",
       "      <td>2.400542</td>\n",
       "      <td>0.855766</td>\n",
       "      <td>0.397647</td>\n",
       "      <td>0.040314</td>\n",
       "      <td>11.995382</td>\n",
       "      <td>26.777959</td>\n",
       "      <td>56580.0</td>\n",
       "      <td>12.7</td>\n",
       "      <td>18.8</td>\n",
       "      <td>1</td>\n",
       "    </tr>\n",
       "    <tr>\n",
       "      <th>1</th>\n",
       "      <td>1003</td>\n",
       "      <td>AL</td>\n",
       "      <td>Baldwin</td>\n",
       "      <td>35210.814078</td>\n",
       "      <td>30561.264430</td>\n",
       "      <td>-13.204891</td>\n",
       "      <td>19.318473</td>\n",
       "      <td>16.767489</td>\n",
       "      <td>9952.144027</td>\n",
       "      <td>9886.831137</td>\n",
       "      <td>...</td>\n",
       "      <td>4.384824</td>\n",
       "      <td>0.735193</td>\n",
       "      <td>0.628755</td>\n",
       "      <td>0.043343</td>\n",
       "      <td>16.771185</td>\n",
       "      <td>22.987408</td>\n",
       "      <td>52387.0</td>\n",
       "      <td>12.9</td>\n",
       "      <td>19.6</td>\n",
       "      <td>1</td>\n",
       "    </tr>\n",
       "    <tr>\n",
       "      <th>2</th>\n",
       "      <td>1005</td>\n",
       "      <td>AL</td>\n",
       "      <td>Barbour</td>\n",
       "      <td>5722.305602</td>\n",
       "      <td>6069.523628</td>\n",
       "      <td>6.067799</td>\n",
       "      <td>20.840972</td>\n",
       "      <td>22.105560</td>\n",
       "      <td>3135.676086</td>\n",
       "      <td>2948.790251</td>\n",
       "      <td>...</td>\n",
       "      <td>5.051535</td>\n",
       "      <td>0.389700</td>\n",
       "      <td>0.218524</td>\n",
       "      <td>0.087409</td>\n",
       "      <td>14.236807</td>\n",
       "      <td>21.906982</td>\n",
       "      <td>31433.0</td>\n",
       "      <td>32.0</td>\n",
       "      <td>45.2</td>\n",
       "      <td>0</td>\n",
       "    </tr>\n",
       "    <tr>\n",
       "      <th>3</th>\n",
       "      <td>1007</td>\n",
       "      <td>AL</td>\n",
       "      <td>Bibb</td>\n",
       "      <td>1044.867327</td>\n",
       "      <td>969.378841</td>\n",
       "      <td>-7.224696</td>\n",
       "      <td>4.559753</td>\n",
       "      <td>4.230324</td>\n",
       "      <td>491.449066</td>\n",
       "      <td>596.162829</td>\n",
       "      <td>...</td>\n",
       "      <td>1.771765</td>\n",
       "      <td>0.096007</td>\n",
       "      <td>0.279293</td>\n",
       "      <td>0.030548</td>\n",
       "      <td>12.681650</td>\n",
       "      <td>22.696923</td>\n",
       "      <td>40767.0</td>\n",
       "      <td>22.2</td>\n",
       "      <td>29.3</td>\n",
       "      <td>1</td>\n",
       "    </tr>\n",
       "    <tr>\n",
       "      <th>4</th>\n",
       "      <td>1009</td>\n",
       "      <td>AL</td>\n",
       "      <td>Blount</td>\n",
       "      <td>1548.175559</td>\n",
       "      <td>3724.428242</td>\n",
       "      <td>140.568857</td>\n",
       "      <td>2.700840</td>\n",
       "      <td>6.497380</td>\n",
       "      <td>609.027708</td>\n",
       "      <td>1650.959482</td>\n",
       "      <td>...</td>\n",
       "      <td>8.070200</td>\n",
       "      <td>0.200621</td>\n",
       "      <td>0.497191</td>\n",
       "      <td>0.031402</td>\n",
       "      <td>14.722096</td>\n",
       "      <td>24.608353</td>\n",
       "      <td>50487.0</td>\n",
       "      <td>14.7</td>\n",
       "      <td>22.2</td>\n",
       "      <td>1</td>\n",
       "    </tr>\n",
       "  </tbody>\n",
       "</table>\n",
       "<p>5 rows × 100 columns</p>\n",
       "</div>"
      ],
      "text/plain": [
       "   FIPS State   County  LACCESS_POP10  LACCESS_POP15  PCH_LACCESS_POP_10_15  \\\n",
       "0  1001    AL  Autauga   18428.439685   17496.693038              -5.056026   \n",
       "1  1003    AL  Baldwin   35210.814078   30561.264430             -13.204891   \n",
       "2  1005    AL  Barbour    5722.305602    6069.523628               6.067799   \n",
       "3  1007    AL     Bibb    1044.867327     969.378841              -7.224696   \n",
       "4  1009    AL   Blount    1548.175559    3724.428242             140.568857   \n",
       "\n",
       "   PCT_LACCESS_POP10  PCT_LACCESS_POP15  LACCESS_LOWI10  LACCESS_LOWI15  ...  \\\n",
       "0          33.769657          32.062255     5344.427472     6543.676824  ...   \n",
       "1          19.318473          16.767489     9952.144027     9886.831137  ...   \n",
       "2          20.840972          22.105560     3135.676086     2948.790251  ...   \n",
       "3           4.559753           4.230324      491.449066      596.162829  ...   \n",
       "4           2.700840           6.497380      609.027708     1650.959482  ...   \n",
       "\n",
       "   PCT_HISP10  PCT_NHASIAN10  PCT_NHNA10  PCT_NHPI10  PCT_65OLDER10  \\\n",
       "0    2.400542       0.855766    0.397647    0.040314      11.995382   \n",
       "1    4.384824       0.735193    0.628755    0.043343      16.771185   \n",
       "2    5.051535       0.389700    0.218524    0.087409      14.236807   \n",
       "3    1.771765       0.096007    0.279293    0.030548      12.681650   \n",
       "4    8.070200       0.200621    0.497191    0.031402      14.722096   \n",
       "\n",
       "   PCT_18YOUNGER10  MEDHHINC15  POVRATE15  CHILDPOVRATE15  METRO13  \n",
       "0        26.777959     56580.0       12.7            18.8        1  \n",
       "1        22.987408     52387.0       12.9            19.6        1  \n",
       "2        21.906982     31433.0       32.0            45.2        0  \n",
       "3        22.696923     40767.0       22.2            29.3        1  \n",
       "4        24.608353     50487.0       14.7            22.2        1  \n",
       "\n",
       "[5 rows x 100 columns]"
      ]
     },
     "execution_count": 3,
     "metadata": {},
     "output_type": "execute_result"
    }
   ],
   "source": [
    "df = pd.read_pickle(r'./../data/AtlasPreprocess.pkl')\n",
    "df.head()"
   ]
  },
  {
   "cell_type": "code",
   "execution_count": 4,
   "metadata": {},
   "outputs": [
    {
     "data": {
      "text/html": [
       "<div>\n",
       "<style scoped>\n",
       "    .dataframe tbody tr th:only-of-type {\n",
       "        vertical-align: middle;\n",
       "    }\n",
       "\n",
       "    .dataframe tbody tr th {\n",
       "        vertical-align: top;\n",
       "    }\n",
       "\n",
       "    .dataframe thead th {\n",
       "        text-align: right;\n",
       "    }\n",
       "</style>\n",
       "<table border=\"1\" class=\"dataframe\">\n",
       "  <thead>\n",
       "    <tr style=\"text-align: right;\">\n",
       "      <th></th>\n",
       "      <th>FIPS</th>\n",
       "      <th>State</th>\n",
       "      <th>County</th>\n",
       "      <th>LACCESS_POP10</th>\n",
       "      <th>LACCESS_POP15</th>\n",
       "      <th>PCH_LACCESS_POP_10_15</th>\n",
       "      <th>PCT_LACCESS_POP10</th>\n",
       "      <th>PCT_LACCESS_POP15</th>\n",
       "      <th>LACCESS_LOWI10</th>\n",
       "      <th>LACCESS_LOWI15</th>\n",
       "      <th>...</th>\n",
       "      <th>PCT_HISP10</th>\n",
       "      <th>PCT_NHASIAN10</th>\n",
       "      <th>PCT_NHNA10</th>\n",
       "      <th>PCT_NHPI10</th>\n",
       "      <th>PCT_65OLDER10</th>\n",
       "      <th>PCT_18YOUNGER10</th>\n",
       "      <th>MEDHHINC15</th>\n",
       "      <th>POVRATE15</th>\n",
       "      <th>CHILDPOVRATE15</th>\n",
       "      <th>METRO13</th>\n",
       "    </tr>\n",
       "  </thead>\n",
       "  <tbody>\n",
       "    <tr>\n",
       "      <th>0</th>\n",
       "      <td>01001</td>\n",
       "      <td>AL</td>\n",
       "      <td>Autauga</td>\n",
       "      <td>18428.439685</td>\n",
       "      <td>17496.693038</td>\n",
       "      <td>-5.056026</td>\n",
       "      <td>33.769657</td>\n",
       "      <td>32.062255</td>\n",
       "      <td>5344.427472</td>\n",
       "      <td>6543.676824</td>\n",
       "      <td>...</td>\n",
       "      <td>2.400542</td>\n",
       "      <td>0.855766</td>\n",
       "      <td>0.397647</td>\n",
       "      <td>0.040314</td>\n",
       "      <td>11.995382</td>\n",
       "      <td>26.777959</td>\n",
       "      <td>56580.0</td>\n",
       "      <td>12.7</td>\n",
       "      <td>18.8</td>\n",
       "      <td>1</td>\n",
       "    </tr>\n",
       "    <tr>\n",
       "      <th>1</th>\n",
       "      <td>01003</td>\n",
       "      <td>AL</td>\n",
       "      <td>Baldwin</td>\n",
       "      <td>35210.814078</td>\n",
       "      <td>30561.264430</td>\n",
       "      <td>-13.204891</td>\n",
       "      <td>19.318473</td>\n",
       "      <td>16.767489</td>\n",
       "      <td>9952.144027</td>\n",
       "      <td>9886.831137</td>\n",
       "      <td>...</td>\n",
       "      <td>4.384824</td>\n",
       "      <td>0.735193</td>\n",
       "      <td>0.628755</td>\n",
       "      <td>0.043343</td>\n",
       "      <td>16.771185</td>\n",
       "      <td>22.987408</td>\n",
       "      <td>52387.0</td>\n",
       "      <td>12.9</td>\n",
       "      <td>19.6</td>\n",
       "      <td>1</td>\n",
       "    </tr>\n",
       "    <tr>\n",
       "      <th>2</th>\n",
       "      <td>01005</td>\n",
       "      <td>AL</td>\n",
       "      <td>Barbour</td>\n",
       "      <td>5722.305602</td>\n",
       "      <td>6069.523628</td>\n",
       "      <td>6.067799</td>\n",
       "      <td>20.840972</td>\n",
       "      <td>22.105560</td>\n",
       "      <td>3135.676086</td>\n",
       "      <td>2948.790251</td>\n",
       "      <td>...</td>\n",
       "      <td>5.051535</td>\n",
       "      <td>0.389700</td>\n",
       "      <td>0.218524</td>\n",
       "      <td>0.087409</td>\n",
       "      <td>14.236807</td>\n",
       "      <td>21.906982</td>\n",
       "      <td>31433.0</td>\n",
       "      <td>32.0</td>\n",
       "      <td>45.2</td>\n",
       "      <td>0</td>\n",
       "    </tr>\n",
       "    <tr>\n",
       "      <th>3</th>\n",
       "      <td>01007</td>\n",
       "      <td>AL</td>\n",
       "      <td>Bibb</td>\n",
       "      <td>1044.867327</td>\n",
       "      <td>969.378841</td>\n",
       "      <td>-7.224696</td>\n",
       "      <td>4.559753</td>\n",
       "      <td>4.230324</td>\n",
       "      <td>491.449066</td>\n",
       "      <td>596.162829</td>\n",
       "      <td>...</td>\n",
       "      <td>1.771765</td>\n",
       "      <td>0.096007</td>\n",
       "      <td>0.279293</td>\n",
       "      <td>0.030548</td>\n",
       "      <td>12.681650</td>\n",
       "      <td>22.696923</td>\n",
       "      <td>40767.0</td>\n",
       "      <td>22.2</td>\n",
       "      <td>29.3</td>\n",
       "      <td>1</td>\n",
       "    </tr>\n",
       "    <tr>\n",
       "      <th>4</th>\n",
       "      <td>01009</td>\n",
       "      <td>AL</td>\n",
       "      <td>Blount</td>\n",
       "      <td>1548.175559</td>\n",
       "      <td>3724.428242</td>\n",
       "      <td>140.568857</td>\n",
       "      <td>2.700840</td>\n",
       "      <td>6.497380</td>\n",
       "      <td>609.027708</td>\n",
       "      <td>1650.959482</td>\n",
       "      <td>...</td>\n",
       "      <td>8.070200</td>\n",
       "      <td>0.200621</td>\n",
       "      <td>0.497191</td>\n",
       "      <td>0.031402</td>\n",
       "      <td>14.722096</td>\n",
       "      <td>24.608353</td>\n",
       "      <td>50487.0</td>\n",
       "      <td>14.7</td>\n",
       "      <td>22.2</td>\n",
       "      <td>1</td>\n",
       "    </tr>\n",
       "  </tbody>\n",
       "</table>\n",
       "<p>5 rows × 100 columns</p>\n",
       "</div>"
      ],
      "text/plain": [
       "    FIPS State   County  LACCESS_POP10  LACCESS_POP15  PCH_LACCESS_POP_10_15  \\\n",
       "0  01001    AL  Autauga   18428.439685   17496.693038              -5.056026   \n",
       "1  01003    AL  Baldwin   35210.814078   30561.264430             -13.204891   \n",
       "2  01005    AL  Barbour    5722.305602    6069.523628               6.067799   \n",
       "3  01007    AL     Bibb    1044.867327     969.378841              -7.224696   \n",
       "4  01009    AL   Blount    1548.175559    3724.428242             140.568857   \n",
       "\n",
       "   PCT_LACCESS_POP10  PCT_LACCESS_POP15  LACCESS_LOWI10  LACCESS_LOWI15  ...  \\\n",
       "0          33.769657          32.062255     5344.427472     6543.676824  ...   \n",
       "1          19.318473          16.767489     9952.144027     9886.831137  ...   \n",
       "2          20.840972          22.105560     3135.676086     2948.790251  ...   \n",
       "3           4.559753           4.230324      491.449066      596.162829  ...   \n",
       "4           2.700840           6.497380      609.027708     1650.959482  ...   \n",
       "\n",
       "   PCT_HISP10  PCT_NHASIAN10  PCT_NHNA10  PCT_NHPI10  PCT_65OLDER10  \\\n",
       "0    2.400542       0.855766    0.397647    0.040314      11.995382   \n",
       "1    4.384824       0.735193    0.628755    0.043343      16.771185   \n",
       "2    5.051535       0.389700    0.218524    0.087409      14.236807   \n",
       "3    1.771765       0.096007    0.279293    0.030548      12.681650   \n",
       "4    8.070200       0.200621    0.497191    0.031402      14.722096   \n",
       "\n",
       "   PCT_18YOUNGER10  MEDHHINC15  POVRATE15  CHILDPOVRATE15  METRO13  \n",
       "0        26.777959     56580.0       12.7            18.8        1  \n",
       "1        22.987408     52387.0       12.9            19.6        1  \n",
       "2        21.906982     31433.0       32.0            45.2        0  \n",
       "3        22.696923     40767.0       22.2            29.3        1  \n",
       "4        24.608353     50487.0       14.7            22.2        1  \n",
       "\n",
       "[5 rows x 100 columns]"
      ]
     },
     "execution_count": 4,
     "metadata": {},
     "output_type": "execute_result"
    }
   ],
   "source": [
    "df = df.astype({'FIPS':'string'})\n",
    "df[\"FIPS\"]= df[\"FIPS\"].str.zfill(5)\n",
    "df.head()"
   ]
  },
  {
   "cell_type": "code",
   "execution_count": 5,
   "metadata": {},
   "outputs": [],
   "source": [
    "from urllib.request import urlopen\n",
    "import json\n",
    "with urlopen('https://raw.githubusercontent.com/loganpowell/census-geojson/master/GeoJSON/20m/2013/county.json') as response:\n",
    "    counties = json.load(response)\n"
   ]
  },
  {
   "cell_type": "code",
   "execution_count": 6,
   "metadata": {},
   "outputs": [
    {
     "data": {
      "text/plain": [
       "(3142, 5)"
      ]
     },
     "execution_count": 6,
     "metadata": {},
     "output_type": "execute_result"
    }
   ],
   "source": [
    "# Load file with boundary shapes\n",
    "t = gpd.read_file(\"USA_Counties_(Generalized).geojson\")\n",
    "tract_gdf = pd.DataFrame(t, columns=['NAME','STATE_NAME','FIPS','GlobalID','geometry'])\n",
    "tract_gdf.shape"
   ]
  },
  {
   "cell_type": "code",
   "execution_count": 7,
   "metadata": {},
   "outputs": [
    {
     "data": {
      "text/html": [
       "<div>\n",
       "<style scoped>\n",
       "    .dataframe tbody tr th:only-of-type {\n",
       "        vertical-align: middle;\n",
       "    }\n",
       "\n",
       "    .dataframe tbody tr th {\n",
       "        vertical-align: top;\n",
       "    }\n",
       "\n",
       "    .dataframe thead th {\n",
       "        text-align: right;\n",
       "    }\n",
       "</style>\n",
       "<table border=\"1\" class=\"dataframe\">\n",
       "  <thead>\n",
       "    <tr style=\"text-align: right;\">\n",
       "      <th></th>\n",
       "      <th>NAME</th>\n",
       "      <th>STATE_NAME</th>\n",
       "      <th>FIPS</th>\n",
       "      <th>GlobalID</th>\n",
       "      <th>geometry</th>\n",
       "    </tr>\n",
       "  </thead>\n",
       "  <tbody>\n",
       "    <tr>\n",
       "      <th>0</th>\n",
       "      <td>Aleutians East</td>\n",
       "      <td>Alaska</td>\n",
       "      <td>02013</td>\n",
       "      <td>6b0d7935-2033-4671-b447-2328bd217d3b</td>\n",
       "      <td>MULTIPOLYGON (((-158.79841 56.80097, -159.0286...</td>\n",
       "    </tr>\n",
       "    <tr>\n",
       "      <th>1</th>\n",
       "      <td>Traill</td>\n",
       "      <td>North Dakota</td>\n",
       "      <td>38097</td>\n",
       "      <td>6d3199a6-fe70-4984-aceb-a7eceb1879a6</td>\n",
       "      <td>POLYGON ((-96.83707 47.24046, -97.45339 47.244...</td>\n",
       "    </tr>\n",
       "    <tr>\n",
       "      <th>2</th>\n",
       "      <td>Walsh</td>\n",
       "      <td>North Dakota</td>\n",
       "      <td>38099</td>\n",
       "      <td>38365f59-6424-4cc8-876b-37efa76014c2</td>\n",
       "      <td>POLYGON ((-97.90248 48.19601, -98.29524 48.196...</td>\n",
       "    </tr>\n",
       "    <tr>\n",
       "      <th>3</th>\n",
       "      <td>Aleutians West</td>\n",
       "      <td>Alaska</td>\n",
       "      <td>02016</td>\n",
       "      <td>c1fd869c-8650-4d17-a7cb-daf73b0aa128</td>\n",
       "      <td>MULTIPOLYGON (((-166.64522 53.52274, -166.7113...</td>\n",
       "    </tr>\n",
       "    <tr>\n",
       "      <th>4</th>\n",
       "      <td>Ward</td>\n",
       "      <td>North Dakota</td>\n",
       "      <td>38101</td>\n",
       "      <td>8e55210b-0dad-4479-afb6-5367bd3170a0</td>\n",
       "      <td>POLYGON ((-100.96471 47.85409, -101.87778 47.8...</td>\n",
       "    </tr>\n",
       "  </tbody>\n",
       "</table>\n",
       "</div>"
      ],
      "text/plain": [
       "             NAME    STATE_NAME   FIPS                              GlobalID  \\\n",
       "0  Aleutians East        Alaska  02013  6b0d7935-2033-4671-b447-2328bd217d3b   \n",
       "1          Traill  North Dakota  38097  6d3199a6-fe70-4984-aceb-a7eceb1879a6   \n",
       "2           Walsh  North Dakota  38099  38365f59-6424-4cc8-876b-37efa76014c2   \n",
       "3  Aleutians West        Alaska  02016  c1fd869c-8650-4d17-a7cb-daf73b0aa128   \n",
       "4            Ward  North Dakota  38101  8e55210b-0dad-4479-afb6-5367bd3170a0   \n",
       "\n",
       "                                            geometry  \n",
       "0  MULTIPOLYGON (((-158.79841 56.80097, -159.0286...  \n",
       "1  POLYGON ((-96.83707 47.24046, -97.45339 47.244...  \n",
       "2  POLYGON ((-97.90248 48.19601, -98.29524 48.196...  \n",
       "3  MULTIPOLYGON (((-166.64522 53.52274, -166.7113...  \n",
       "4  POLYGON ((-100.96471 47.85409, -101.87778 47.8...  "
      ]
     },
     "execution_count": 7,
     "metadata": {},
     "output_type": "execute_result"
    }
   ],
   "source": [
    "tract_gdf.head()"
   ]
  },
  {
   "cell_type": "code",
   "execution_count": 8,
   "metadata": {},
   "outputs": [],
   "source": [
    "# Convert FIPS to int type\n",
    "# tract_gdf['FIPS'] = pd.to_numeric(tract_gdf['FIPS']).astype('int64')"
   ]
  },
  {
   "cell_type": "code",
   "execution_count": 9,
   "metadata": {},
   "outputs": [
    {
     "name": "stdout",
     "output_type": "stream",
     "text": [
      "<class 'pandas.core.frame.DataFrame'>\n",
      "RangeIndex: 3142 entries, 0 to 3141\n",
      "Data columns (total 5 columns):\n",
      " #   Column      Non-Null Count  Dtype   \n",
      "---  ------      --------------  -----   \n",
      " 0   NAME        3142 non-null   object  \n",
      " 1   STATE_NAME  3142 non-null   object  \n",
      " 2   FIPS        3142 non-null   object  \n",
      " 3   GlobalID    3142 non-null   object  \n",
      " 4   geometry    3142 non-null   geometry\n",
      "dtypes: geometry(1), object(4)\n",
      "memory usage: 122.9+ KB\n"
     ]
    }
   ],
   "source": [
    "tract_gdf.info()"
   ]
  },
  {
   "cell_type": "markdown",
   "metadata": {},
   "source": [
    "#### Check if all counties in shape file match those of dataframe"
   ]
  },
  {
   "cell_type": "code",
   "execution_count": 10,
   "metadata": {},
   "outputs": [
    {
     "data": {
      "text/plain": [
       "(3140, 104)"
      ]
     },
     "execution_count": 10,
     "metadata": {},
     "output_type": "execute_result"
    }
   ],
   "source": [
    "df_map = df.merge(tract_gdf, on='FIPS')\n",
    "df_map.shape"
   ]
  },
  {
   "cell_type": "markdown",
   "metadata": {},
   "source": [
    "Some county FIPS vary due to name change in the last decade."
   ]
  },
  {
   "cell_type": "code",
   "execution_count": 11,
   "metadata": {},
   "outputs": [
    {
     "data": {
      "text/plain": [
       "['02270', '46113', '51515']"
      ]
     },
     "execution_count": 11,
     "metadata": {},
     "output_type": "execute_result"
    }
   ],
   "source": [
    "# County FIPS with missing shapes \n",
    "miss = []\n",
    "for x in df[\"FIPS\"].values: \n",
    "    if x not in df_map[\"FIPS\"].values:\n",
    "        miss.append(x)\n",
    "miss"
   ]
  },
  {
   "cell_type": "code",
   "execution_count": 12,
   "metadata": {},
   "outputs": [
    {
     "data": {
      "text/html": [
       "<div>\n",
       "<style scoped>\n",
       "    .dataframe tbody tr th:only-of-type {\n",
       "        vertical-align: middle;\n",
       "    }\n",
       "\n",
       "    .dataframe tbody tr th {\n",
       "        vertical-align: top;\n",
       "    }\n",
       "\n",
       "    .dataframe thead th {\n",
       "        text-align: right;\n",
       "    }\n",
       "</style>\n",
       "<table border=\"1\" class=\"dataframe\">\n",
       "  <thead>\n",
       "    <tr style=\"text-align: right;\">\n",
       "      <th></th>\n",
       "      <th>FIPS</th>\n",
       "      <th>State</th>\n",
       "      <th>County</th>\n",
       "      <th>LACCESS_POP10</th>\n",
       "      <th>LACCESS_POP15</th>\n",
       "      <th>PCH_LACCESS_POP_10_15</th>\n",
       "      <th>PCT_LACCESS_POP10</th>\n",
       "      <th>PCT_LACCESS_POP15</th>\n",
       "      <th>LACCESS_LOWI10</th>\n",
       "      <th>LACCESS_LOWI15</th>\n",
       "      <th>...</th>\n",
       "      <th>PCT_HISP10</th>\n",
       "      <th>PCT_NHASIAN10</th>\n",
       "      <th>PCT_NHNA10</th>\n",
       "      <th>PCT_NHPI10</th>\n",
       "      <th>PCT_65OLDER10</th>\n",
       "      <th>PCT_18YOUNGER10</th>\n",
       "      <th>MEDHHINC15</th>\n",
       "      <th>POVRATE15</th>\n",
       "      <th>CHILDPOVRATE15</th>\n",
       "      <th>METRO13</th>\n",
       "    </tr>\n",
       "  </thead>\n",
       "  <tbody>\n",
       "    <tr>\n",
       "      <th>92</th>\n",
       "      <td>02270</td>\n",
       "      <td>AK</td>\n",
       "      <td>Wade Hampton</td>\n",
       "      <td>4955.077251</td>\n",
       "      <td>4615.000002</td>\n",
       "      <td>-6.863208</td>\n",
       "      <td>66.430852</td>\n",
       "      <td>61.871565</td>\n",
       "      <td>3289.170867</td>\n",
       "      <td>3120.823723</td>\n",
       "      <td>...</td>\n",
       "      <td>0.093846</td>\n",
       "      <td>0.227913</td>\n",
       "      <td>94.945703</td>\n",
       "      <td>0.000000</td>\n",
       "      <td>5.416276</td>\n",
       "      <td>41.573938</td>\n",
       "      <td>NaN</td>\n",
       "      <td>NaN</td>\n",
       "      <td>NaN</td>\n",
       "      <td>0</td>\n",
       "    </tr>\n",
       "    <tr>\n",
       "      <th>2417</th>\n",
       "      <td>46113</td>\n",
       "      <td>SD</td>\n",
       "      <td>Shannon</td>\n",
       "      <td>6478.169436</td>\n",
       "      <td>10779.636539</td>\n",
       "      <td>66.399423</td>\n",
       "      <td>47.682684</td>\n",
       "      <td>79.343711</td>\n",
       "      <td>5089.355448</td>\n",
       "      <td>8438.376428</td>\n",
       "      <td>...</td>\n",
       "      <td>2.193434</td>\n",
       "      <td>0.103047</td>\n",
       "      <td>94.096864</td>\n",
       "      <td>0.014721</td>\n",
       "      <td>5.881054</td>\n",
       "      <td>39.319888</td>\n",
       "      <td>NaN</td>\n",
       "      <td>NaN</td>\n",
       "      <td>NaN</td>\n",
       "      <td>0</td>\n",
       "    </tr>\n",
       "    <tr>\n",
       "      <th>2916</th>\n",
       "      <td>51515</td>\n",
       "      <td>VA</td>\n",
       "      <td>Bedford</td>\n",
       "      <td>539.658697</td>\n",
       "      <td>539.658697</td>\n",
       "      <td>0.000000</td>\n",
       "      <td>8.673396</td>\n",
       "      <td>8.673396</td>\n",
       "      <td>281.103183</td>\n",
       "      <td>NaN</td>\n",
       "      <td>...</td>\n",
       "      <td>2.153648</td>\n",
       "      <td>0.658952</td>\n",
       "      <td>0.112504</td>\n",
       "      <td>0.016072</td>\n",
       "      <td>21.488267</td>\n",
       "      <td>20.540019</td>\n",
       "      <td>NaN</td>\n",
       "      <td>NaN</td>\n",
       "      <td>NaN</td>\n",
       "      <td>1</td>\n",
       "    </tr>\n",
       "  </tbody>\n",
       "</table>\n",
       "<p>3 rows × 100 columns</p>\n",
       "</div>"
      ],
      "text/plain": [
       "       FIPS State        County  LACCESS_POP10  LACCESS_POP15  \\\n",
       "92    02270    AK  Wade Hampton    4955.077251    4615.000002   \n",
       "2417  46113    SD       Shannon    6478.169436   10779.636539   \n",
       "2916  51515    VA       Bedford     539.658697     539.658697   \n",
       "\n",
       "      PCH_LACCESS_POP_10_15  PCT_LACCESS_POP10  PCT_LACCESS_POP15  \\\n",
       "92                -6.863208          66.430852          61.871565   \n",
       "2417              66.399423          47.682684          79.343711   \n",
       "2916               0.000000           8.673396           8.673396   \n",
       "\n",
       "      LACCESS_LOWI10  LACCESS_LOWI15  ...  PCT_HISP10  PCT_NHASIAN10  \\\n",
       "92       3289.170867     3120.823723  ...    0.093846       0.227913   \n",
       "2417     5089.355448     8438.376428  ...    2.193434       0.103047   \n",
       "2916      281.103183             NaN  ...    2.153648       0.658952   \n",
       "\n",
       "      PCT_NHNA10  PCT_NHPI10  PCT_65OLDER10  PCT_18YOUNGER10  MEDHHINC15  \\\n",
       "92     94.945703    0.000000       5.416276        41.573938         NaN   \n",
       "2417   94.096864    0.014721       5.881054        39.319888         NaN   \n",
       "2916    0.112504    0.016072      21.488267        20.540019         NaN   \n",
       "\n",
       "      POVRATE15  CHILDPOVRATE15  METRO13  \n",
       "92          NaN             NaN        0  \n",
       "2417        NaN             NaN        0  \n",
       "2916        NaN             NaN        1  \n",
       "\n",
       "[3 rows x 100 columns]"
      ]
     },
     "execution_count": 12,
     "metadata": {},
     "output_type": "execute_result"
    }
   ],
   "source": [
    "# Dataframe rows with missing shapes\n",
    "df.loc[df['FIPS'].isin(miss)]"
   ]
  },
  {
   "cell_type": "code",
   "execution_count": 13,
   "metadata": {},
   "outputs": [
    {
     "data": {
      "text/html": [
       "<div>\n",
       "<style scoped>\n",
       "    .dataframe tbody tr th:only-of-type {\n",
       "        vertical-align: middle;\n",
       "    }\n",
       "\n",
       "    .dataframe tbody tr th {\n",
       "        vertical-align: top;\n",
       "    }\n",
       "\n",
       "    .dataframe thead th {\n",
       "        text-align: right;\n",
       "    }\n",
       "</style>\n",
       "<table border=\"1\" class=\"dataframe\">\n",
       "  <thead>\n",
       "    <tr style=\"text-align: right;\">\n",
       "      <th></th>\n",
       "      <th>NAME</th>\n",
       "      <th>STATE_NAME</th>\n",
       "      <th>FIPS</th>\n",
       "      <th>GlobalID</th>\n",
       "      <th>geometry</th>\n",
       "    </tr>\n",
       "  </thead>\n",
       "  <tbody>\n",
       "    <tr>\n",
       "      <th>532</th>\n",
       "      <td>Oglala Lakota</td>\n",
       "      <td>South Dakota</td>\n",
       "      <td>46102</td>\n",
       "      <td>fb128163-274b-4383-ac88-9627ff1bb7a2</td>\n",
       "      <td>POLYGON ((-102.78838 42.99530, -103.00588 42.9...</td>\n",
       "    </tr>\n",
       "    <tr>\n",
       "      <th>1232</th>\n",
       "      <td>Kusilvak</td>\n",
       "      <td>Alaska</td>\n",
       "      <td>02158</td>\n",
       "      <td>b8f67612-4540-43ee-9edc-babda06ddc24</td>\n",
       "      <td>POLYGON ((-165.11057 60.92256, -165.19287 60.9...</td>\n",
       "    </tr>\n",
       "  </tbody>\n",
       "</table>\n",
       "</div>"
      ],
      "text/plain": [
       "               NAME    STATE_NAME   FIPS  \\\n",
       "532   Oglala Lakota  South Dakota  46102   \n",
       "1232       Kusilvak        Alaska  02158   \n",
       "\n",
       "                                  GlobalID  \\\n",
       "532   fb128163-274b-4383-ac88-9627ff1bb7a2   \n",
       "1232  b8f67612-4540-43ee-9edc-babda06ddc24   \n",
       "\n",
       "                                               geometry  \n",
       "532   POLYGON ((-102.78838 42.99530, -103.00588 42.9...  \n",
       "1232  POLYGON ((-165.11057 60.92256, -165.19287 60.9...  "
      ]
     },
     "execution_count": 13,
     "metadata": {},
     "output_type": "execute_result"
    }
   ],
   "source": [
    "# Counties in shape file that were not matched \n",
    "tract_gdf.loc[~tract_gdf['FIPS'].isin(df['FIPS'].values)]"
   ]
  },
  {
   "cell_type": "markdown",
   "metadata": {},
   "source": [
    "##### Adjusting County names and FIPS codes"
   ]
  },
  {
   "cell_type": "code",
   "execution_count": 14,
   "metadata": {},
   "outputs": [
    {
     "data": {
      "text/html": [
       "<div>\n",
       "<style scoped>\n",
       "    .dataframe tbody tr th:only-of-type {\n",
       "        vertical-align: middle;\n",
       "    }\n",
       "\n",
       "    .dataframe tbody tr th {\n",
       "        vertical-align: top;\n",
       "    }\n",
       "\n",
       "    .dataframe thead th {\n",
       "        text-align: right;\n",
       "    }\n",
       "</style>\n",
       "<table border=\"1\" class=\"dataframe\">\n",
       "  <thead>\n",
       "    <tr style=\"text-align: right;\">\n",
       "      <th></th>\n",
       "      <th>FIPS</th>\n",
       "      <th>State</th>\n",
       "      <th>County</th>\n",
       "      <th>LACCESS_POP10</th>\n",
       "      <th>LACCESS_POP15</th>\n",
       "      <th>PCH_LACCESS_POP_10_15</th>\n",
       "      <th>PCT_LACCESS_POP10</th>\n",
       "      <th>PCT_LACCESS_POP15</th>\n",
       "      <th>LACCESS_LOWI10</th>\n",
       "      <th>LACCESS_LOWI15</th>\n",
       "      <th>...</th>\n",
       "      <th>PCT_HISP10</th>\n",
       "      <th>PCT_NHASIAN10</th>\n",
       "      <th>PCT_NHNA10</th>\n",
       "      <th>PCT_NHPI10</th>\n",
       "      <th>PCT_65OLDER10</th>\n",
       "      <th>PCT_18YOUNGER10</th>\n",
       "      <th>MEDHHINC15</th>\n",
       "      <th>POVRATE15</th>\n",
       "      <th>CHILDPOVRATE15</th>\n",
       "      <th>METRO13</th>\n",
       "    </tr>\n",
       "  </thead>\n",
       "  <tbody>\n",
       "    <tr>\n",
       "      <th>2417</th>\n",
       "      <td>46102</td>\n",
       "      <td>SD</td>\n",
       "      <td>Oglala Lakota</td>\n",
       "      <td>6478.169436</td>\n",
       "      <td>10779.636539</td>\n",
       "      <td>66.399423</td>\n",
       "      <td>47.682684</td>\n",
       "      <td>79.343711</td>\n",
       "      <td>5089.355448</td>\n",
       "      <td>8438.376428</td>\n",
       "      <td>...</td>\n",
       "      <td>2.193434</td>\n",
       "      <td>0.103047</td>\n",
       "      <td>94.096864</td>\n",
       "      <td>0.014721</td>\n",
       "      <td>5.881054</td>\n",
       "      <td>39.319888</td>\n",
       "      <td>NaN</td>\n",
       "      <td>NaN</td>\n",
       "      <td>NaN</td>\n",
       "      <td>0</td>\n",
       "    </tr>\n",
       "  </tbody>\n",
       "</table>\n",
       "<p>1 rows × 100 columns</p>\n",
       "</div>"
      ],
      "text/plain": [
       "       FIPS State         County  LACCESS_POP10  LACCESS_POP15  \\\n",
       "2417  46102    SD  Oglala Lakota    6478.169436   10779.636539   \n",
       "\n",
       "      PCH_LACCESS_POP_10_15  PCT_LACCESS_POP10  PCT_LACCESS_POP15  \\\n",
       "2417              66.399423          47.682684          79.343711   \n",
       "\n",
       "      LACCESS_LOWI10  LACCESS_LOWI15  ...  PCT_HISP10  PCT_NHASIAN10  \\\n",
       "2417     5089.355448     8438.376428  ...    2.193434       0.103047   \n",
       "\n",
       "      PCT_NHNA10  PCT_NHPI10  PCT_65OLDER10  PCT_18YOUNGER10  MEDHHINC15  \\\n",
       "2417   94.096864    0.014721       5.881054        39.319888         NaN   \n",
       "\n",
       "      POVRATE15  CHILDPOVRATE15  METRO13  \n",
       "2417        NaN             NaN        0  \n",
       "\n",
       "[1 rows x 100 columns]"
      ]
     },
     "execution_count": 14,
     "metadata": {},
     "output_type": "execute_result"
    }
   ],
   "source": [
    "# Changing Shannon County 46113 from SD to Oglala Lakota County 46102\n",
    "df['FIPS'].mask(df['FIPS'] == '46113', '46102', inplace=True)\n",
    "df['County'] = np.where((df['FIPS']=='46102'),\"Oglala Lakota\", df['County'])\n",
    "df[df['FIPS']=='46102']"
   ]
  },
  {
   "cell_type": "code",
   "execution_count": 15,
   "metadata": {},
   "outputs": [
    {
     "data": {
      "text/html": [
       "<div>\n",
       "<style scoped>\n",
       "    .dataframe tbody tr th:only-of-type {\n",
       "        vertical-align: middle;\n",
       "    }\n",
       "\n",
       "    .dataframe tbody tr th {\n",
       "        vertical-align: top;\n",
       "    }\n",
       "\n",
       "    .dataframe thead th {\n",
       "        text-align: right;\n",
       "    }\n",
       "</style>\n",
       "<table border=\"1\" class=\"dataframe\">\n",
       "  <thead>\n",
       "    <tr style=\"text-align: right;\">\n",
       "      <th></th>\n",
       "      <th>FIPS</th>\n",
       "      <th>State</th>\n",
       "      <th>County</th>\n",
       "      <th>LACCESS_POP10</th>\n",
       "      <th>LACCESS_POP15</th>\n",
       "      <th>PCH_LACCESS_POP_10_15</th>\n",
       "      <th>PCT_LACCESS_POP10</th>\n",
       "      <th>PCT_LACCESS_POP15</th>\n",
       "      <th>LACCESS_LOWI10</th>\n",
       "      <th>LACCESS_LOWI15</th>\n",
       "      <th>...</th>\n",
       "      <th>PCT_HISP10</th>\n",
       "      <th>PCT_NHASIAN10</th>\n",
       "      <th>PCT_NHNA10</th>\n",
       "      <th>PCT_NHPI10</th>\n",
       "      <th>PCT_65OLDER10</th>\n",
       "      <th>PCT_18YOUNGER10</th>\n",
       "      <th>MEDHHINC15</th>\n",
       "      <th>POVRATE15</th>\n",
       "      <th>CHILDPOVRATE15</th>\n",
       "      <th>METRO13</th>\n",
       "    </tr>\n",
       "  </thead>\n",
       "  <tbody>\n",
       "    <tr>\n",
       "      <th>92</th>\n",
       "      <td>02158</td>\n",
       "      <td>AK</td>\n",
       "      <td>Kusilvak</td>\n",
       "      <td>4955.077251</td>\n",
       "      <td>4615.000002</td>\n",
       "      <td>-6.863208</td>\n",
       "      <td>66.430852</td>\n",
       "      <td>61.871565</td>\n",
       "      <td>3289.170867</td>\n",
       "      <td>3120.823723</td>\n",
       "      <td>...</td>\n",
       "      <td>0.093846</td>\n",
       "      <td>0.227913</td>\n",
       "      <td>94.945703</td>\n",
       "      <td>0.0</td>\n",
       "      <td>5.416276</td>\n",
       "      <td>41.573938</td>\n",
       "      <td>NaN</td>\n",
       "      <td>NaN</td>\n",
       "      <td>NaN</td>\n",
       "      <td>0</td>\n",
       "    </tr>\n",
       "  </tbody>\n",
       "</table>\n",
       "<p>1 rows × 100 columns</p>\n",
       "</div>"
      ],
      "text/plain": [
       "     FIPS State    County  LACCESS_POP10  LACCESS_POP15  \\\n",
       "92  02158    AK  Kusilvak    4955.077251    4615.000002   \n",
       "\n",
       "    PCH_LACCESS_POP_10_15  PCT_LACCESS_POP10  PCT_LACCESS_POP15  \\\n",
       "92              -6.863208          66.430852          61.871565   \n",
       "\n",
       "    LACCESS_LOWI10  LACCESS_LOWI15  ...  PCT_HISP10  PCT_NHASIAN10  \\\n",
       "92     3289.170867     3120.823723  ...    0.093846       0.227913   \n",
       "\n",
       "    PCT_NHNA10  PCT_NHPI10  PCT_65OLDER10  PCT_18YOUNGER10  MEDHHINC15  \\\n",
       "92   94.945703         0.0       5.416276        41.573938         NaN   \n",
       "\n",
       "    POVRATE15  CHILDPOVRATE15  METRO13  \n",
       "92        NaN             NaN        0  \n",
       "\n",
       "[1 rows x 100 columns]"
      ]
     },
     "execution_count": 15,
     "metadata": {},
     "output_type": "execute_result"
    }
   ],
   "source": [
    "# Changing Wade Hampton County 2270 to Kusilvak County 2158\n",
    "df['FIPS'].mask(df['FIPS'] == '02270', '02158', inplace=True)\n",
    "df['County'] = np.where((df['FIPS']=='02158'),\"Kusilvak\", df['County'])\n",
    "df[df['FIPS']=='02158']\n",
    "# df[df['County']=='Kusilvak']"
   ]
  },
  {
   "cell_type": "code",
   "execution_count": 16,
   "metadata": {},
   "outputs": [
    {
     "data": {
      "text/plain": [
       "(3142, 100)"
      ]
     },
     "execution_count": 16,
     "metadata": {},
     "output_type": "execute_result"
    }
   ],
   "source": [
    "# Removing Bedford city VA from dataframe for now (this was absorbed to Bedford county in 2014)\n",
    "df.drop(df.loc[df['FIPS']=='51515'].index, inplace=True)\n",
    "df.shape"
   ]
  },
  {
   "cell_type": "code",
   "execution_count": 17,
   "metadata": {},
   "outputs": [
    {
     "data": {
      "text/plain": [
       "(3142, 104)"
      ]
     },
     "execution_count": 17,
     "metadata": {},
     "output_type": "execute_result"
    }
   ],
   "source": [
    "df_map = df.merge(tract_gdf, on='FIPS')\n",
    "df_map.shape"
   ]
  },
  {
   "cell_type": "markdown",
   "metadata": {},
   "source": [
    "#### Imputation"
   ]
  },
  {
   "cell_type": "code",
   "execution_count": 18,
   "metadata": {},
   "outputs": [
    {
     "data": {
      "text/plain": [
       "FIPS                            0\n",
       "State                           0\n",
       "County                          0\n",
       "LACCESS_POP10                   0\n",
       "LACCESS_POP15                  19\n",
       "PCH_LACCESS_POP_10_15          26\n",
       "PCT_LACCESS_POP10               0\n",
       "PCT_LACCESS_POP15              19\n",
       "LACCESS_LOWI10                  0\n",
       "LACCESS_LOWI15                 19\n",
       "PCH_LACCESS_LOWI_10_15         27\n",
       "PCT_LACCESS_LOWI10              0\n",
       "PCT_LACCESS_LOWI15             19\n",
       "LACCESS_HHNV10                  0\n",
       "LACCESS_HHNV15                  2\n",
       "PCH_LACCESS_HHNV_10_15         13\n",
       "PCT_LACCESS_HHNV10              0\n",
       "PCT_LACCESS_HHNV15              2\n",
       "LACCESS_SNAP15                 19\n",
       "PCT_LACCESS_SNAP15             19\n",
       "LACCESS_CHILD10                 0\n",
       "LACCESS_CHILD15                19\n",
       "LACCESS_CHILD_10_15            28\n",
       "PCT_LACCESS_CHILD10             0\n",
       "PCT_LACCESS_CHILD15            19\n",
       "LACCESS_SENIORS10               0\n",
       "LACCESS_SENIORS15              19\n",
       "PCH_LACCESS_SENIORS_10_15      26\n",
       "PCT_LACCESS_SENIORS10           0\n",
       "PCT_LACCESS_SENIORS15          19\n",
       "LACCESS_WHITE15                19\n",
       "PCT_LACCESS_WHITE15            19\n",
       "LACCESS_BLACK15                19\n",
       "PCT_LACCESS_BLACK15            19\n",
       "LACCESS_HISP15                 19\n",
       "PCT_LACCESS_HISP15             19\n",
       "LACCESS_NHASIAN15              19\n",
       "PCT_LACCESS_NHASIAN15          19\n",
       "LACCESS_NHNA15                 19\n",
       "PCT_LACCESS_NHNA15             19\n",
       "LACCESS_NHPI15                 19\n",
       "PCT_LACCESS_NHPI15             19\n",
       "LACCESS_MULTIR15               19\n",
       "PCT_LACCESS_MULTIR15           19\n",
       "GROCPTH11                       0\n",
       "GROCPTH16                       0\n",
       "SUPERCPTH11                     0\n",
       "SUPERCPTH16                     0\n",
       "CONVSPTH11                      0\n",
       "CONVSPTH16                      0\n",
       "SPECSPTH11                      0\n",
       "SPECSPTH16                      0\n",
       "SNAPSPTH12                      0\n",
       "SNAPSPTH17                     26\n",
       "FFRPTH11                        0\n",
       "FFRPTH16                        0\n",
       "FSRPTH11                        0\n",
       "FSRPTH16                        0\n",
       "PC_FFRSALES07                   0\n",
       "PC_FFRSALES12                   0\n",
       "PC_FSRSALES07                   0\n",
       "PC_FSRSALES12                   0\n",
       "PCT_SNAP12                      0\n",
       "PCT_SNAP17                      0\n",
       "SNAP_PART_RATE11                0\n",
       "SNAP_PART_RATE16                0\n",
       "PCT_NSLP12                      0\n",
       "PCT_NSLP17                      0\n",
       "PCT_FREE_LUNCH10               20\n",
       "PCT_FREE_LUNCH15              288\n",
       "PCT_REDUCED_LUNCH10            30\n",
       "PCT_REDUCED_LUNCH15           288\n",
       "PCT_SBP12                       0\n",
       "PCT_SBP17                       0\n",
       "PCT_SFSP12                      0\n",
       "PCT_SFSP17                      0\n",
       "FDPIR12                         0\n",
       "FDPIR15                         0\n",
       "FOOD_BANKS18                    0\n",
       "FOODINSEC_12_14                 0\n",
       "FOODINSEC_15_17                 0\n",
       "VLFOODSEC_12_14                 0\n",
       "VLFOODSEC_15_17                 0\n",
       "DIRSALES_FARMS07               62\n",
       "DIRSALES_FARMS12               62\n",
       "FMRKTPTH13                      2\n",
       "FMRKTPTH18                      2\n",
       "FOODHUB18                    2962\n",
       "PCT_NHWHITE10                   0\n",
       "PCT_NHBLACK10                   0\n",
       "PCT_HISP10                      0\n",
       "PCT_NHASIAN10                   0\n",
       "PCT_NHNA10                      0\n",
       "PCT_NHPI10                      0\n",
       "PCT_65OLDER10                   0\n",
       "PCT_18YOUNGER10                 0\n",
       "MEDHHINC15                      3\n",
       "POVRATE15                       3\n",
       "CHILDPOVRATE15                  3\n",
       "METRO13                         0\n",
       "dtype: int64"
      ]
     },
     "execution_count": 18,
     "metadata": {},
     "output_type": "execute_result"
    }
   ],
   "source": [
    "pd.set_option('display.max_rows', None)\n",
    "df.isnull().sum()"
   ]
  },
  {
   "cell_type": "code",
   "execution_count": 19,
   "metadata": {},
   "outputs": [
    {
     "name": "stderr",
     "output_type": "stream",
     "text": [
      "C:\\Users\\kunse\\AppData\\Local\\Temp\\ipykernel_18416\\217724717.py:6: FutureWarning: The default value of numeric_only in DataFrame.median is deprecated. In a future version, it will default to False. In addition, specifying 'numeric_only=None' is deprecated. Select only valid columns or specify the value of numeric_only to silence this warning.\n",
      "  df[impute_cols] = df[impute_cols].fillna(df[impute_cols].median())\n"
     ]
    }
   ],
   "source": [
    "# Columns to impute with median, excluding three columns that have large number of missing values\n",
    "impute_cols = list(df.drop(axis=1, columns=['PCT_FREE_LUNCH15', 'PCT_REDUCED_LUNCH15',\n",
    "                         'FOODHUB18'], inplace=False).columns)\n",
    "\n",
    "# Fill nans with median of the column\n",
    "df[impute_cols] = df[impute_cols].fillna(df[impute_cols].median())"
   ]
  },
  {
   "cell_type": "code",
   "execution_count": 20,
   "metadata": {
    "scrolled": true
   },
   "outputs": [
    {
     "data": {
      "image/png": "[encoded data removed]",
      "text/plain": [
       "<Figure size 424.426x300 with 1 Axes>"
      ]
     },
     "metadata": {},
     "output_type": "display_data"
    },
    {
     "data": {
      "image/png": "[encoded data removed]",
      "text/plain": [
       "<Figure size 424.426x300 with 1 Axes>"
      ]
     },
     "metadata": {},
     "output_type": "display_data"
    },
    {
     "data": {
      "image/png": "[encoded data removed]",
      "text/plain": [
       "<Figure size 424.426x300 with 1 Axes>"
      ]
     },
     "metadata": {},
     "output_type": "display_data"
    },
    {
     "data": {
      "image/png": "[encoded data removed]",
      "text/plain": [
       "<Figure size 424.426x300 with 1 Axes>"
      ]
     },
     "metadata": {},
     "output_type": "display_data"
    }
   ],
   "source": [
    "# compare distribution of two of the columns related to lunch programs that had high missing numbers \n",
    "mis_cols = ['PCT_FREE_LUNCH10','PCT_FREE_LUNCH15','PCT_REDUCED_LUNCH10','PCT_REDUCED_LUNCH15']\n",
    "for c in mis_cols:\n",
    "    sns.displot(data=df, x=c, height=3, aspect=11.7/8.27)"
   ]
  },
  {
   "cell_type": "code",
   "execution_count": 21,
   "metadata": {},
   "outputs": [
    {
     "data": {
      "image/png": "[encoded data removed]",
      "text/plain": [
       "<Figure size 424.426x300 with 1 Axes>"
      ]
     },
     "metadata": {},
     "output_type": "display_data"
    },
    {
     "data": {
      "image/png": "[encoded data removed]",
      "text/plain": [
       "<Figure size 424.426x300 with 1 Axes>"
      ]
     },
     "metadata": {},
     "output_type": "display_data"
    }
   ],
   "source": [
    "# Replace the nans in 2015 columns with values from 2010 for the same variable\n",
    "df['PCT_FREE_LUNCH15'] = df.apply(lambda row: row['PCT_FREE_LUNCH10'] \n",
    "                                  if np.isnan(row['PCT_FREE_LUNCH15']) else row['PCT_FREE_LUNCH15'],axis=1)\n",
    "\n",
    "df['PCT_REDUCED_LUNCH15'] = df.apply(lambda row: row['PCT_REDUCED_LUNCH10'] \n",
    "                                  if np.isnan(row['PCT_REDUCED_LUNCH15']) else row['PCT_REDUCED_LUNCH15'],axis=1)\n",
    "\n",
    "# Check change in distribution\n",
    "for c in ['PCT_FREE_LUNCH15','PCT_REDUCED_LUNCH15']:\n",
    "    sns.displot(data=df, x=c, height=3, aspect=11.7/8.27)"
   ]
  },
  {
   "cell_type": "markdown",
   "metadata": {},
   "source": [
    "Distribution does not change greatly. The unusual peaks at 0 and 100 can be attributed as unique characteristics of the dataset variables.  \n"
   ]
  },
  {
   "cell_type": "code",
   "execution_count": 22,
   "metadata": {},
   "outputs": [
    {
     "data": {
      "text/html": [
       "<div>\n",
       "<style scoped>\n",
       "    .dataframe tbody tr th:only-of-type {\n",
       "        vertical-align: middle;\n",
       "    }\n",
       "\n",
       "    .dataframe tbody tr th {\n",
       "        vertical-align: top;\n",
       "    }\n",
       "\n",
       "    .dataframe thead th {\n",
       "        text-align: right;\n",
       "    }\n",
       "</style>\n",
       "<table border=\"1\" class=\"dataframe\">\n",
       "  <thead>\n",
       "    <tr style=\"text-align: right;\">\n",
       "      <th></th>\n",
       "      <th>FIPS</th>\n",
       "      <th>State</th>\n",
       "      <th>County</th>\n",
       "      <th>LACCESS_POP10</th>\n",
       "      <th>LACCESS_POP15</th>\n",
       "      <th>PCH_LACCESS_POP_10_15</th>\n",
       "      <th>PCT_LACCESS_POP10</th>\n",
       "      <th>PCT_LACCESS_POP15</th>\n",
       "      <th>LACCESS_LOWI10</th>\n",
       "      <th>LACCESS_LOWI15</th>\n",
       "      <th>...</th>\n",
       "      <th>PCT_HISP10</th>\n",
       "      <th>PCT_NHASIAN10</th>\n",
       "      <th>PCT_NHNA10</th>\n",
       "      <th>PCT_NHPI10</th>\n",
       "      <th>PCT_65OLDER10</th>\n",
       "      <th>PCT_18YOUNGER10</th>\n",
       "      <th>MEDHHINC15</th>\n",
       "      <th>POVRATE15</th>\n",
       "      <th>CHILDPOVRATE15</th>\n",
       "      <th>METRO13</th>\n",
       "    </tr>\n",
       "  </thead>\n",
       "  <tbody>\n",
       "  </tbody>\n",
       "</table>\n",
       "<p>0 rows × 100 columns</p>\n",
       "</div>"
      ],
      "text/plain": [
       "Empty DataFrame\n",
       "Columns: [FIPS, State, County, LACCESS_POP10, LACCESS_POP15, PCH_LACCESS_POP_10_15, PCT_LACCESS_POP10, PCT_LACCESS_POP15, LACCESS_LOWI10, LACCESS_LOWI15, PCH_LACCESS_LOWI_10_15, PCT_LACCESS_LOWI10, PCT_LACCESS_LOWI15, LACCESS_HHNV10, LACCESS_HHNV15, PCH_LACCESS_HHNV_10_15, PCT_LACCESS_HHNV10, PCT_LACCESS_HHNV15, LACCESS_SNAP15, PCT_LACCESS_SNAP15, LACCESS_CHILD10, LACCESS_CHILD15, LACCESS_CHILD_10_15, PCT_LACCESS_CHILD10, PCT_LACCESS_CHILD15, LACCESS_SENIORS10, LACCESS_SENIORS15, PCH_LACCESS_SENIORS_10_15, PCT_LACCESS_SENIORS10, PCT_LACCESS_SENIORS15, LACCESS_WHITE15, PCT_LACCESS_WHITE15, LACCESS_BLACK15, PCT_LACCESS_BLACK15, LACCESS_HISP15, PCT_LACCESS_HISP15, LACCESS_NHASIAN15, PCT_LACCESS_NHASIAN15, LACCESS_NHNA15, PCT_LACCESS_NHNA15, LACCESS_NHPI15, PCT_LACCESS_NHPI15, LACCESS_MULTIR15, PCT_LACCESS_MULTIR15, GROCPTH11, GROCPTH16, SUPERCPTH11, SUPERCPTH16, CONVSPTH11, CONVSPTH16, SPECSPTH11, SPECSPTH16, SNAPSPTH12, SNAPSPTH17, FFRPTH11, FFRPTH16, FSRPTH11, FSRPTH16, PC_FFRSALES07, PC_FFRSALES12, PC_FSRSALES07, PC_FSRSALES12, PCT_SNAP12, PCT_SNAP17, SNAP_PART_RATE11, SNAP_PART_RATE16, PCT_NSLP12, PCT_NSLP17, PCT_FREE_LUNCH10, PCT_FREE_LUNCH15, PCT_REDUCED_LUNCH10, PCT_REDUCED_LUNCH15, PCT_SBP12, PCT_SBP17, PCT_SFSP12, PCT_SFSP17, FDPIR12, FDPIR15, FOOD_BANKS18, FOODINSEC_12_14, FOODINSEC_15_17, VLFOODSEC_12_14, VLFOODSEC_15_17, DIRSALES_FARMS07, DIRSALES_FARMS12, FMRKTPTH13, FMRKTPTH18, FOODHUB18, PCT_NHWHITE10, PCT_NHBLACK10, PCT_HISP10, PCT_NHASIAN10, PCT_NHNA10, PCT_NHPI10, PCT_65OLDER10, PCT_18YOUNGER10, MEDHHINC15, POVRATE15, CHILDPOVRATE15, METRO13]\n",
       "Index: []\n",
       "\n",
       "[0 rows x 100 columns]"
      ]
     },
     "execution_count": 22,
     "metadata": {},
     "output_type": "execute_result"
    }
   ],
   "source": [
    "# Only FOODHUB18 is left with missing values. This column does not have any 0 values so I will replace nans with 0s.\n",
    "df[df['FOODHUB18']==0]"
   ]
  },
  {
   "cell_type": "code",
   "execution_count": 23,
   "metadata": {},
   "outputs": [],
   "source": [
    "df['FOODHUB18'] = df['FOODHUB18'].fillna(0)"
   ]
  },
  {
   "cell_type": "code",
   "execution_count": 24,
   "metadata": {},
   "outputs": [
    {
     "data": {
      "text/plain": [
       "[]"
      ]
     },
     "execution_count": 24,
     "metadata": {},
     "output_type": "execute_result"
    }
   ],
   "source": [
    "# All missing values have been dealt with\n",
    "df.columns[df.isna().any()].tolist()"
   ]
  },
  {
   "cell_type": "code",
   "execution_count": 25,
   "metadata": {},
   "outputs": [],
   "source": [
    "# Save cleaned dataframe\n",
    "df.to_pickle(r'./../data/AtlasCleaned.pkl')"
   ]
  },
  {
   "cell_type": "code",
   "execution_count": null,
   "metadata": {},
   "outputs": [],
   "source": []
  },
  {
   "cell_type": "code",
   "execution_count": null,
   "metadata": {},
   "outputs": [],
   "source": []
  }
 ],
 "metadata": {
  "kernelspec": {
   "display_name": "Python 3 (ipykernel)",
   "language": "python",
   "name": "python3"
  },
  "language_info": {
   "codemirror_mode": {
    "name": "ipython",
    "version": 3
   },
   "file_extension": ".py",
   "mimetype": "text/x-python",
   "name": "python",
   "nbconvert_exporter": "python",
   "pygments_lexer": "ipython3",
   "version": "3.9.16"
  }
 },
 "nbformat": 4,
 "nbformat_minor": 4
}
